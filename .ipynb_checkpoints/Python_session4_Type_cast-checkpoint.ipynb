{
 "cells": [
  {
   "cell_type": "markdown",
   "id": "259d3f60-9004-49b3-95ef-1b8992583f29",
   "metadata": {},
   "source": [
    "## Typecast"
   ]
  },
  {
   "cell_type": "markdown",
   "id": "2e9f7813-9a88-44be-aaaf-ee3652192750",
   "metadata": {},
   "source": [
    "- dont do overaction\n",
    "\n",
    "- just do action"
   ]
  },
  {
   "cell_type": "markdown",
   "id": "7cbac5f4-c3fe-44e3-8358-73f3b49e3ec0",
   "metadata": {},
   "source": [
    "- changing one data type to another data type\n",
    "- int to float\n",
    "- int to string\n",
    "- int to boolean"
   ]
  },
  {
   "cell_type": "code",
   "execution_count": 7,
   "id": "f778c408-973f-4c53-b81d-c703bc5de22e",
   "metadata": {},
   "outputs": [
    {
     "data": {
      "text/plain": [
       "int"
      ]
     },
     "execution_count": 7,
     "metadata": {},
     "output_type": "execute_result"
    }
   ],
   "source": [
    "number=100\n",
    "type(number)"
   ]
  },
  {
   "cell_type": "code",
   "execution_count": 9,
   "id": "3b12fafe-43a9-4c41-8c65-1c8363140701",
   "metadata": {},
   "outputs": [
    {
     "data": {
      "text/plain": [
       "'100'"
      ]
     },
     "execution_count": 9,
     "metadata": {},
     "output_type": "execute_result"
    }
   ],
   "source": [
    "str(number)"
   ]
  },
  {
   "cell_type": "code",
   "execution_count": 11,
   "id": "b1f8a921-7cce-422a-8b56-b71edf707933",
   "metadata": {},
   "outputs": [
    {
     "data": {
      "text/plain": [
       "100.0"
      ]
     },
     "execution_count": 11,
     "metadata": {},
     "output_type": "execute_result"
    }
   ],
   "source": [
    "float(number)"
   ]
  },
  {
   "cell_type": "code",
   "execution_count": 13,
   "id": "5ae3fcfb-8c82-411f-81ef-e65b77f8cc04",
   "metadata": {},
   "outputs": [
    {
     "data": {
      "text/plain": [
       "True"
      ]
     },
     "execution_count": 13,
     "metadata": {},
     "output_type": "execute_result"
    }
   ],
   "source": [
    "bool(number)"
   ]
  },
  {
   "cell_type": "code",
   "execution_count": 15,
   "id": "51534b52-5aed-4ee9-b9cb-7bb50bc5ec3f",
   "metadata": {},
   "outputs": [
    {
     "name": "stdout",
     "output_type": "stream",
     "text": [
      "100.0\n",
      "100\n",
      "True\n"
     ]
    }
   ],
   "source": [
    "print(float(100))\n",
    "print(str(100))\n",
    "print(bool(100))"
   ]
  },
  {
   "cell_type": "code",
   "execution_count": 27,
   "id": "477b353e-9090-47c7-b06b-2bc17b604da2",
   "metadata": {},
   "outputs": [
    {
     "name": "stdout",
     "output_type": "stream",
     "text": [
      "-100.0\n",
      "100\n",
      "False\n"
     ]
    }
   ],
   "source": [
    "print(float(-100))\n",
    "print(str(100))\n",
    "print(bool(0))"
   ]
  },
  {
   "cell_type": "markdown",
   "id": "59aa1034-d754-4bdf-a29b-7f9bcb5fb5fc",
   "metadata": {},
   "source": [
    "**Note**\n",
    "\n",
    "- Boolean conversion of any integer value other than zero becomes True\n",
    "- Boolean conversion of zero is False"
   ]
  },
  {
   "cell_type": "code",
   "execution_count": 36,
   "id": "f40454e6-9a50-4a53-8761-b206389b9095",
   "metadata": {},
   "outputs": [
    {
     "name": "stdout",
     "output_type": "stream",
     "text": [
      "10\n",
      "10.0\n",
      "True\n"
     ]
    }
   ],
   "source": [
    "# ** float to int,str,bool**\n",
    "\n",
    "print(int(10.0))\n",
    "print(str(10.0))\n",
    "print(bool(2))"
   ]
  },
  {
   "cell_type": "code",
   "execution_count": 38,
   "id": "78e3621c-4d11-42f9-9e4b-41787b69abb3",
   "metadata": {},
   "outputs": [
    {
     "name": "stdout",
     "output_type": "stream",
     "text": [
      "10\n",
      "10.0\n",
      "False\n"
     ]
    }
   ],
   "source": [
    "print(int(10.0))\n",
    "print(str(10.0))\n",
    "print(bool(0))"
   ]
  },
  {
   "cell_type": "markdown",
   "id": "1b2afb5b-8586-460d-8684-6b6bbf57d9ed",
   "metadata": {},
   "source": [
    "**String to other data types**"
   ]
  },
  {
   "cell_type": "code",
   "execution_count": 5,
   "id": "964b6784-35b0-457d-8980-8d02986ba5ca",
   "metadata": {},
   "outputs": [
    {
     "data": {
      "text/plain": [
       "True"
      ]
     },
     "execution_count": 5,
     "metadata": {},
     "output_type": "execute_result"
    }
   ],
   "source": [
    "#int('Apple')\n",
    "#float('Apple')\n",
    "bool('Apple')"
   ]
  },
  {
   "cell_type": "code",
   "execution_count": 3,
   "id": "b31fcfb1-2e79-4f8f-88e9-e9f572fd8616",
   "metadata": {},
   "outputs": [
    {
     "data": {
      "text/plain": [
       "10"
      ]
     },
     "execution_count": 3,
     "metadata": {},
     "output_type": "execute_result"
    }
   ],
   "source": [
    "int('10')"
   ]
  },
  {
   "cell_type": "code",
   "execution_count": 1,
   "id": "755bd0b8-b870-45d2-9c3a-445e8dd886b4",
   "metadata": {},
   "outputs": [
    {
     "data": {
      "text/plain": [
       "10.5"
      ]
     },
     "execution_count": 1,
     "metadata": {},
     "output_type": "execute_result"
    }
   ],
   "source": [
    "float('10')\n",
    "float('10.5')"
   ]
  },
  {
   "cell_type": "code",
   "execution_count": 7,
   "id": "35f82f39-b89c-4881-b0bb-c0a8cb164e9f",
   "metadata": {},
   "outputs": [
    {
     "data": {
      "text/plain": [
       "True"
      ]
     },
     "execution_count": 7,
     "metadata": {},
     "output_type": "execute_result"
    }
   ],
   "source": [
    "bool('10')"
   ]
  },
  {
   "cell_type": "code",
   "execution_count": 9,
   "id": "27fa570d-6c26-4f4c-a94a-d65e1f9c0e60",
   "metadata": {},
   "outputs": [
    {
     "data": {
      "text/plain": [
       "10"
      ]
     },
     "execution_count": 9,
     "metadata": {},
     "output_type": "execute_result"
    }
   ],
   "source": [
    "#10.5 to 10\n",
    "int(float('10.5'))"
   ]
  },
  {
   "cell_type": "code",
   "execution_count": null,
   "id": "630a3e15-ad87-4c78-b49e-4b61ac356bf7",
   "metadata": {},
   "outputs": [],
   "source": []
  }
 ],
 "metadata": {
  "kernelspec": {
   "display_name": "Python 3 (ipykernel)",
   "language": "python",
   "name": "python3"
  },
  "language_info": {
   "codemirror_mode": {
    "name": "ipython",
    "version": 3
   },
   "file_extension": ".py",
   "mimetype": "text/x-python",
   "name": "python",
   "nbconvert_exporter": "python",
   "pygments_lexer": "ipython3",
   "version": "3.12.4"
  }
 },
 "nbformat": 4,
 "nbformat_minor": 5
}
